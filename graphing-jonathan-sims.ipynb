{
 "cells": [
  {
   "cell_type": "code",
   "execution_count": 1,
   "metadata": {},
   "outputs": [],
   "source": [
    "import os\n",
    "\n",
    "from tqdm.auto import tqdm\n",
    "\n",
    "import numpy as np\n",
    "import pandas as pd\n",
    "import matplotlib.pyplot as plt\n",
    "import matplotlib.cm"
   ]
  },
  {
   "cell_type": "code",
   "execution_count": 2,
   "metadata": {},
   "outputs": [],
   "source": [
    "plt.style.use('default')"
   ]
  },
  {
   "cell_type": "code",
   "execution_count": 3,
   "metadata": {},
   "outputs": [],
   "source": [
    "D = 1\n",
    "n = 10\n",
    "N = 1e9\n",
    "s = 0.125\n",
    "c = 1\n",
    "L = 1\n",
    "\n",
    "save_dir = \"grabby_aliens/outputs\""
   ]
  },
  {
   "cell_type": "code",
   "execution_count": 4,
   "metadata": {},
   "outputs": [],
   "source": [
    "filename = f\"D={D}_n={float(n)}_N={N:.2e}_s={s:.5e}_L={float(L)}_c={float(c)}.csv\"\n",
    "with open(os.path.join(save_dir, filename), \"r\") as f:\n",
    "    df = pd.read_csv(f)"
   ]
  },
  {
   "cell_type": "code",
   "execution_count": 5,
   "metadata": {},
   "outputs": [
    {
     "data": {
      "text/html": [
       "<div>\n",
       "<style scoped>\n",
       "    .dataframe tbody tr th:only-of-type {\n",
       "        vertical-align: middle;\n",
       "    }\n",
       "\n",
       "    .dataframe tbody tr th {\n",
       "        vertical-align: top;\n",
       "    }\n",
       "\n",
       "    .dataframe thead th {\n",
       "        text-align: right;\n",
       "    }\n",
       "</style>\n",
       "<table border=\"1\" class=\"dataframe\">\n",
       "  <thead>\n",
       "    <tr style=\"text-align: right;\">\n",
       "      <th></th>\n",
       "      <th>X</th>\n",
       "      <th>OriginTime</th>\n",
       "      <th>MinWait</th>\n",
       "      <th>NumberSeen</th>\n",
       "      <th>MaxAngle</th>\n",
       "    </tr>\n",
       "  </thead>\n",
       "  <tbody>\n",
       "    <tr>\n",
       "      <th>0</th>\n",
       "      <td>0.886569</td>\n",
       "      <td>0.110223</td>\n",
       "      <td>0.117063</td>\n",
       "      <td>0</td>\n",
       "      <td>0.000000</td>\n",
       "    </tr>\n",
       "    <tr>\n",
       "      <th>1</th>\n",
       "      <td>0.337149</td>\n",
       "      <td>0.153959</td>\n",
       "      <td>0.065311</td>\n",
       "      <td>0</td>\n",
       "      <td>0.000000</td>\n",
       "    </tr>\n",
       "    <tr>\n",
       "      <th>2</th>\n",
       "      <td>0.702443</td>\n",
       "      <td>0.163793</td>\n",
       "      <td>0.075380</td>\n",
       "      <td>0</td>\n",
       "      <td>0.000000</td>\n",
       "    </tr>\n",
       "    <tr>\n",
       "      <th>3</th>\n",
       "      <td>0.245547</td>\n",
       "      <td>0.167909</td>\n",
       "      <td>0.049808</td>\n",
       "      <td>0</td>\n",
       "      <td>0.000000</td>\n",
       "    </tr>\n",
       "    <tr>\n",
       "      <th>4</th>\n",
       "      <td>0.930345</td>\n",
       "      <td>0.176187</td>\n",
       "      <td>0.032879</td>\n",
       "      <td>1</td>\n",
       "      <td>0.063359</td>\n",
       "    </tr>\n",
       "    <tr>\n",
       "      <th>...</th>\n",
       "      <td>...</td>\n",
       "      <td>...</td>\n",
       "      <td>...</td>\n",
       "      <td>...</td>\n",
       "      <td>...</td>\n",
       "    </tr>\n",
       "    <tr>\n",
       "      <th>180</th>\n",
       "      <td>0.826717</td>\n",
       "      <td>0.270718</td>\n",
       "      <td>0.000324</td>\n",
       "      <td>18</td>\n",
       "      <td>0.821534</td>\n",
       "    </tr>\n",
       "    <tr>\n",
       "      <th>181</th>\n",
       "      <td>0.497813</td>\n",
       "      <td>0.274460</td>\n",
       "      <td>0.003824</td>\n",
       "      <td>23</td>\n",
       "      <td>0.704337</td>\n",
       "    </tr>\n",
       "    <tr>\n",
       "      <th>182</th>\n",
       "      <td>0.025478</td>\n",
       "      <td>0.277032</td>\n",
       "      <td>0.007491</td>\n",
       "      <td>18</td>\n",
       "      <td>0.464240</td>\n",
       "    </tr>\n",
       "    <tr>\n",
       "      <th>183</th>\n",
       "      <td>0.492094</td>\n",
       "      <td>0.281629</td>\n",
       "      <td>0.001197</td>\n",
       "      <td>26</td>\n",
       "      <td>0.751929</td>\n",
       "    </tr>\n",
       "    <tr>\n",
       "      <th>184</th>\n",
       "      <td>0.026472</td>\n",
       "      <td>0.284060</td>\n",
       "      <td>0.000463</td>\n",
       "      <td>19</td>\n",
       "      <td>0.805116</td>\n",
       "    </tr>\n",
       "  </tbody>\n",
       "</table>\n",
       "<p>185 rows × 5 columns</p>\n",
       "</div>"
      ],
      "text/plain": [
       "            X  OriginTime   MinWait  NumberSeen  MaxAngle\n",
       "0    0.886569    0.110223  0.117063           0  0.000000\n",
       "1    0.337149    0.153959  0.065311           0  0.000000\n",
       "2    0.702443    0.163793  0.075380           0  0.000000\n",
       "3    0.245547    0.167909  0.049808           0  0.000000\n",
       "4    0.930345    0.176187  0.032879           1  0.063359\n",
       "..        ...         ...       ...         ...       ...\n",
       "180  0.826717    0.270718  0.000324          18  0.821534\n",
       "181  0.497813    0.274460  0.003824          23  0.704337\n",
       "182  0.025478    0.277032  0.007491          18  0.464240\n",
       "183  0.492094    0.281629  0.001197          26  0.751929\n",
       "184  0.026472    0.284060  0.000463          19  0.805116\n",
       "\n",
       "[185 rows x 5 columns]"
      ]
     },
     "execution_count": 5,
     "metadata": {},
     "output_type": "execute_result"
    }
   ],
   "source": [
    "df"
   ]
  },
  {
   "cell_type": "code",
   "execution_count": 6,
   "metadata": {},
   "outputs": [],
   "source": [
    "XT = list(zip(df['X'], df['OriginTime']))"
   ]
  },
  {
   "cell_type": "code",
   "execution_count": 7,
   "metadata": {},
   "outputs": [
    {
     "data": {
      "text/plain": [
       "<matplotlib.legend.Legend at 0x11ac6f710>"
      ]
     },
     "execution_count": 7,
     "metadata": {},
     "output_type": "execute_result"
    },
    {
     "data": {
      "image/png": "[encoded data removed]",
      "text/plain": [
       "<Figure size 600x250 with 1 Axes>"
      ]
     },
     "metadata": {},
     "output_type": "display_data"
    }
   ],
   "source": [
    "XT = sorted(XT, key=lambda xt: xt[0])\n",
    "meeting_points = []\n",
    "GCs_and_meeting_points = []\n",
    "for i in range(len(XT) - 1):\n",
    "    x0, t0 = XT[i]\n",
    "    x1, t1 = XT[i+1]\n",
    "    x = ((s*(t1 - t0)) + (x0 + x1)) / 2\n",
    "    t = t0 + (x - x0)*(1/s)\n",
    "    GCs_and_meeting_points.append((x0, t0))\n",
    "    GCs_and_meeting_points.append((x, t))\n",
    "    meeting_points.append((x, t))\n",
    "GCs_and_meeting_points.append((XT[-1]))\n",
    "\n",
    "# plt.suptitle(f'D={D} n={n} N={N:.2e} L={L} |C|={len(TS)} |C|/L^D={len(TS)/L**D}')\n",
    "plt.figure(figsize=(6, 2.5))\n",
    "ax = plt.subplot(1, 1, 1)\n",
    "\n",
    "xs = [x for x,t in XT]\n",
    "ts = [t for x,t in XT]\n",
    "plt.scatter(xs, ts, s=3.5, color='blue', label=\"GC origin\")\n",
    "\n",
    "plt.plot(*zip(*GCs_and_meeting_points), linewidth=0.85, color='purple', label=\"GC expansion boundary\")\n",
    "plt.xlabel(\"x\", fontsize=11)\n",
    "plt.xticks(fontsize=9)\n",
    "plt.ylabel(\"t\", fontsize=11)\n",
    "plt.yticks(fontsize=9)\n",
    "# plt.ylim(None, 0.47)\n",
    "\n",
    "plt.grid(True)\n",
    "ax.set_axisbelow(True)\n",
    "\n",
    "plt.legend(prop={'size': 7})"
   ]
  },
  {
   "cell_type": "code",
   "execution_count": null,
   "metadata": {},
   "outputs": [],
   "source": []
  },
  {
   "cell_type": "code",
   "execution_count": null,
   "metadata": {},
   "outputs": [],
   "source": []
  },
  {
   "cell_type": "code",
   "execution_count": null,
   "metadata": {},
   "outputs": [],
   "source": []
  },
  {
   "cell_type": "code",
   "execution_count": null,
   "metadata": {},
   "outputs": [],
   "source": []
  }
 ],
 "metadata": {
  "kernelspec": {
   "display_name": "Python 3",
   "language": "python",
   "name": "python3"
  },
  "language_info": {
   "codemirror_mode": {
    "name": "ipython",
    "version": 3
   },
   "file_extension": ".py",
   "mimetype": "text/x-python",
   "name": "python",
   "nbconvert_exporter": "python",
   "pygments_lexer": "ipython3",
   "version": "3.7.9"
  }
 },
 "nbformat": 4,
 "nbformat_minor": 4
}
